{
 "cells": [
  {
   "cell_type": "code",
   "execution_count": 2,
   "id": "a4d168ac-0735-4dd3-bade-4a2ac83067e1",
   "metadata": {},
   "outputs": [
    {
     "name": "stdout",
     "output_type": "stream",
     "text": [
      "Accuracy: 0.7142857142857143\n",
      "Precision: 0.75\n",
      "Recall: 0.75\n",
      "f1: 0.75\n"
     ]
    }
   ],
   "source": [
    "\"\"\"\n",
    "accuracy= correct_pred/ total_pred\n",
    "\n",
    "sklearn.metrics\n",
    "\n",
    "model accuracy\n",
    "\n",
    "100 95 5\n",
    " \n",
    "\"\"\"\n",
    "from sklearn.metrics import accuracy_score,precision_score,recall_score,f1_score\n",
    "\n",
    "#True answer(what actucally scored)\n",
    "y_true =[1,0,1,1,0,1,0]\n",
    "\n",
    "#Model's predicitons (what it gussed)\n",
    "y_pred= [1,0,1,0,0,1,1]\n",
    "\n",
    "#evaluation\n",
    "print(\"Accuracy:\",accuracy_score(y_true,y_pred))\n",
    "print(\"Precision:\",precision_score(y_true,y_pred))\n",
    "print(\"Recall:\",recall_score(y_true,y_pred))\n",
    "print(\"f1:\",f1_score(y_true,y_pred))"
   ]
  },
  {
   "cell_type": "code",
   "execution_count": 5,
   "id": "d12b0037-11ec-4c8e-81b4-58701db357a2",
   "metadata": {},
   "outputs": [
    {
     "name": "stdout",
     "output_type": "stream",
     "text": [
      "Confusin Mertrics\n",
      "[[4 1]\n",
      " [1 4]]\n"
     ]
    }
   ],
   "source": [
    "from sklearn.metrics import confusion_matrix\n",
    "\n",
    "#True answer(what actucally scored)\n",
    "y_true =[1,0,1,1,0,1,0,0,1,0]\n",
    "\n",
    "#Model's predicitons (what it gussed)\n",
    "y_pred= [1,0,1,0,0,1,1,0,1,0]\n",
    "\n",
    "cm=confusion_matrix(y_true,y_pred)\n",
    "\n",
    "print(\"Confusin Mertrics\")\n",
    "print(cm)\n"
   ]
  },
  {
   "cell_type": "code",
   "execution_count": 15,
   "id": "1f0b0dcf-c02b-4dae-93ef-4fface02cd99",
   "metadata": {},
   "outputs": [
    {
     "name": "stdout",
     "output_type": "stream",
     "text": [
      "MAE : On average off by: 7.5\n",
      "MSE : On average off by: 62.5\n",
      "RMSE : On average off by: 7.905694150420948\n"
     ]
    }
   ],
   "source": [
    "\"\"\"\"\n",
    "MEAN ABSOLUTE ERROR\n",
    "1 - take the mistake difference\n",
    "2 - remove the minus sign\n",
    "3 - add\n",
    "4 - divide\n",
    "7.5 on average\n",
    "\n",
    "MSE MEAN SQAURE ERROR\n",
    "1 - Mistakes square them\n",
    "2 - add\n",
    "3 - divide total\n",
    "\n",
    "MSE = 62.5\n",
    "\n",
    "RMSE ROTT MEAN SQUARED ERROR\n",
    "\n",
    "\"\"\"\n",
    "\n",
    "from sklearn.metrics import mean_absolute_error,mean_squared_error\n",
    "import numpy as np\n",
    "\n",
    "#real scores\n",
    "real_score=[90,60,80,100]\n",
    "\n",
    "#mode lguess\n",
    "model_guess=[85,70,70,95]\n",
    "\n",
    "mae = mean_absolute_error(real_score,model_guess)\n",
    "\n",
    "mse = mean_squared_error(real_score,model_guess)\n",
    "rmse=np.sqrt(mse)\n",
    "\n",
    "print(\"MAE : On average off by:\",mae)\n",
    "print(\"MSE : On average off by:\",mse)\n",
    "print(\"RMSE : On average off by:\",rmse)"
   ]
  },
  {
   "cell_type": "code",
   "execution_count": null,
   "id": "caec0bdf-63bf-405b-b552-0cf5f51e1272",
   "metadata": {},
   "outputs": [],
   "source": []
  }
 ],
 "metadata": {
  "kernelspec": {
   "display_name": "Python 3 (ipykernel)",
   "language": "python",
   "name": "python3"
  },
  "language_info": {
   "codemirror_mode": {
    "name": "ipython",
    "version": 3
   },
   "file_extension": ".py",
   "mimetype": "text/x-python",
   "name": "python",
   "nbconvert_exporter": "python",
   "pygments_lexer": "ipython3",
   "version": "3.13.5"
  }
 },
 "nbformat": 4,
 "nbformat_minor": 5
}
