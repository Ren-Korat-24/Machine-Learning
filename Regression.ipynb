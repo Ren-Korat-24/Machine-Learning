{
 "cells": [
  {
   "cell_type": "code",
   "execution_count": 7,
   "id": "9c76de7b-5904-490b-a551-4230607be1ce",
   "metadata": {},
   "outputs": [
    {
     "name": "stdout",
     "output_type": "stream",
     "text": [
      "Enter the how many studied: 5.5\n"
     ]
    },
    {
     "name": "stdout",
     "output_type": "stream",
     "text": [
      "Based onyour hours 5.5 you may scored around [88.25]\n"
     ]
    },
    {
     "name": "stdout",
     "output_type": "stream",
     "text": [
      "Based onyour hours 80.0 you may scored around [1026.5]\n"
     ]
    }
   ],
   "source": [
    "from sklearn.linear_model import LinearRegression\n",
    "\n",
    "X =[[1],[2],[3],[4],[5]]\n",
    "y=[40,50,65,75,80]\n",
    "\n",
    "model = LinearRegression()\n",
    "model.fit(X,y)\n",
    "\n",
    "hours =float(input(\"Enter the how many studied:\"))\n",
    "\n",
    "predict_marks=model.predict([[hours]])\n",
    "\n",
    "print(f\"Based onyour hours {hours} you may scored around {predict_marks}\")"
   ]
  },
  {
   "cell_type": "code",
   "execution_count": 9,
   "id": "0415cad7-438f-45e7-8890-7d7cb4e5646a",
   "metadata": {},
   "outputs": [
    {
     "name": "stdout",
     "output_type": "stream",
     "text": [
      "Enter the how many studied: 10\n"
     ]
    },
    {
     "name": "stdout",
     "output_type": "stream",
     "text": [
      "Based onyour hours 10.0 you are Likely PASS\n"
     ]
    }
   ],
   "source": [
    "from sklearn.linear_model import  LogisticRegression\n",
    "\n",
    "\n",
    "X =[[1],[2],[3],[4],[5]]\n",
    "y=[0,1,0,1,1]\n",
    "\n",
    "model =  LogisticRegression()\n",
    "model.fit(X,y)\n",
    "\n",
    "hours =float(input(\"Enter the how many studied:\"))\n",
    "\n",
    "result=model.predict([[hours]])[0]\n",
    "\n",
    "if result==1:\n",
    "    print(f\"Based onyour hours {hours} you are Likely = PASS\")\n",
    "else:\n",
    "    print(f\"Based onyour hours {hours} you are Likely = FAIL\")\n"
   ]
  },
  {
   "cell_type": "code",
   "execution_count": null,
   "id": "17022093-2cfc-46e4-9fd8-9592f209d11c",
   "metadata": {},
   "outputs": [],
   "source": [
    "from sklearn.neighbors import  KNeighborsClassifier\n",
    "\n",
    "X =[[180,7],[200,7.5],[250,8],[300,8.5],[330,9],[360,9.5]]\n",
    "y=[0,0,0,1,1,1]\n",
    "\n",
    "model =  KNeighborsClassifier(3)\n",
    "model.fit(X,y)\n",
    "\n",
    "weight =float(input(\"Enter the weight:\"))\n",
    "size =float(input(\"Enter the size:\"))\n",
    "\n",
    "prediction=model.predict([[weight,size]])[0]\n",
    "\n",
    "if prediction==0:\n",
    "    print(\"It would likely to an APPLE\")\n",
    "else:\n",
    "    print(\"It would Likely to an ORANGE\")"
   ]
  }
 ],
 "metadata": {
  "kernelspec": {
   "display_name": "Python 3",
   "language": "python",
   "name": "python3"
  },
  "language_info": {
   "codemirror_mode": {
    "name": "ipython",
    "version": 3
   },
   "file_extension": ".py",
   "mimetype": "text/x-python",
   "name": "python",
   "nbconvert_exporter": "python",
   "pygments_lexer": "ipython3",
   "version": "3.13.5"
  }
 },
 "nbformat": 4,
 "nbformat_minor": 5
}
