{
 "cells": [
  {
   "cell_type": "code",
   "execution_count": 1,
   "id": "9c76de7b-5904-490b-a551-4230607be1ce",
   "metadata": {},
   "outputs": [
    {
     "ename": "ValueError",
     "evalue": "could not convert string to float: ''",
     "output_type": "error",
     "traceback": [
      "\u001b[31m---------------------------------------------------------------------------\u001b[39m",
      "\u001b[31mValueError\u001b[39m                                Traceback (most recent call last)",
      "\u001b[36mCell\u001b[39m\u001b[36m \u001b[39m\u001b[32mIn[1]\u001b[39m\u001b[32m, line 8\u001b[39m\n\u001b[32m      6\u001b[39m model = LinearRegression()\n\u001b[32m      7\u001b[39m model.fit(X,y)\n\u001b[32m----> \u001b[39m\u001b[32m8\u001b[39m hours =\u001b[38;5;28;43mfloat\u001b[39;49m\u001b[43m(\u001b[49m\u001b[38;5;28;43minput\u001b[39;49m\u001b[43m(\u001b[49m\u001b[33;43m\"\u001b[39;49m\u001b[33;43mEnter the how many studied:\u001b[39;49m\u001b[33;43m\"\u001b[39;49m\u001b[43m)\u001b[49m\u001b[43m)\u001b[49m\n\u001b[32m     10\u001b[39m predict_marks=model.predict([[hours]])\n\u001b[32m     12\u001b[39m \u001b[38;5;28mprint\u001b[39m(\u001b[33mf\u001b[39m\u001b[33m\"\u001b[39m\u001b[33mBased onyour hours \u001b[39m\u001b[38;5;132;01m{\u001b[39;00mhours\u001b[38;5;132;01m}\u001b[39;00m\u001b[33m you may scored around \u001b[39m\u001b[38;5;132;01m{\u001b[39;00mpredict_marks\u001b[38;5;132;01m}\u001b[39;00m\u001b[33m\"\u001b[39m)\n",
      "\u001b[31mValueError\u001b[39m: could not convert string to float: ''"
     ]
    }
   ],
   "source": [
    "from sklearn.linear_model import LinearRegression\n",
    "\n",
    "X =[[1],[2],[3],[4],[5]]\n",
    "y=[40,50,65,75,80]\n",
    "\n",
    "model = LinearRegression()\n",
    "model.fit(X,y)\n",
    "hours =float(input(\"Enter the how many studied:\"))\n",
    "\n",
    "predict_marks=model.predict([[hours]])\n",
    "\n",
    "print(f\"Based onyour hours {hours} you may scored around {predict_marks}\")"
   ]
  },
  {
   "cell_type": "code",
   "execution_count": null,
   "id": "0415cad7-438f-45e7-8890-7d7cb4e5646a",
   "metadata": {},
   "outputs": [
    {
     "name": "stdout",
     "output_type": "stream",
     "text": [
      "Enter the how many studied: 10\n"
     ]
    },
    {
     "name": "stdout",
     "output_type": "stream",
     "text": [
      "Based onyour hours 10.0 you are Likely PASS\n"
     ]
    }
   ],
   "source": [
    "from sklearn.linear_model import  LogisticRegression\n",
    "\n",
    "\n",
    "X =[[1],[2],[3],[4],[5]]\n",
    "y=[0,1,0,1,1]\n",
    "\n",
    "model =  LogisticRegression()\n",
    "model.fit(X,y)\n",
    "\n",
    "hours =float(input(\"Enter the how many studied:\"))\n",
    "\n",
    "result=model.predict([[hours]])[0]\n",
    "\n",
    "if result==1:\n",
    "    print(f\"Based onyour hours {hours} you are Likely = PASS\")\n",
    "else:\n",
    "    print(f\"Based onyour hours {hours} you are Likely = FAIL\")\n"
   ]
  },
  {
   "cell_type": "code",
   "execution_count": null,
   "id": "17022093-2cfc-46e4-9fd8-9592f209d11c",
   "metadata": {},
   "outputs": [],
   "source": [
    "from sklearn.neighbors import  KNeighborsClassifier\n",
    "\n",
    "X =[[180,7],[200,7.5],[250,8],[300,8.5],[330,9],[360,9.5]]\n",
    "y=[0,0,0,1,1,1]\n",
    "\n",
    "model =  KNeighborsClassifier(3)\n",
    "model.fit(X,y)\n",
    "\n",
    "weight =float(input(\"Enter the weight:\"))\n",
    "size =float(input(\"Enter the size:\"))\n",
    "\n",
    "prediction=model.predict([[weight,size]])[0]\n",
    "\n",
    "if prediction==0:\n",
    "    print(\"It would likely to an APPLE\")\n",
    "else:\n",
    "    print(\"It would Likely to an ORANGE\")"
   ]
  }
 ],
 "metadata": {
  "kernelspec": {
   "display_name": "Python 3",
   "language": "python",
   "name": "python3"
  },
  "language_info": {
   "codemirror_mode": {
    "name": "ipython",
    "version": 3
   },
   "file_extension": ".py",
   "mimetype": "text/x-python",
   "name": "python",
   "nbconvert_exporter": "python",
   "pygments_lexer": "ipython3",
   "version": "3.13.5"
  }
 },
 "nbformat": 4,
 "nbformat_minor": 5
}
